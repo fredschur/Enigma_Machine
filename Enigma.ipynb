{
  "nbformat": 4,
  "nbformat_minor": 0,
  "metadata": {
    "colab": {
      "provenance": [],
      "collapsed_sections": [
        "-txz1jf5KnEV"
      ]
    },
    "kernelspec": {
      "name": "python3",
      "display_name": "Python 3"
    },
    "language_info": {
      "name": "python"
    }
  },
  "cells": [
    {
      "cell_type": "markdown",
      "source": [
        "## Rotor"
      ],
      "metadata": {
        "id": "zEBjI7FNxAYJ"
      }
    },
    {
      "cell_type": "code",
      "source": [
        "class Rotor:\n",
        "    def __init__(self, wiring, notch, position=0):\n",
        "        self.wiring = wiring\n",
        "        self.notch = notch\n",
        "        self.position = position % 26\n",
        "        self.alphabet = 'ABCDEFGHIJKLMNOPQRSTUVWXYZ'\n",
        "\n",
        "    def encode_forward(self, c):\n",
        "        idx = (self.alphabet.index(c) + self.position) % 26\n",
        "        letter = self.wiring[idx]\n",
        "        output = self.alphabet[(self.alphabet.index(letter) - self.position) % 26]\n",
        "        debugger.debug(f\"Rotor({self.notch})\", f\"{c} -> {letter} -> {output}\")\n",
        "        return output\n",
        "\n",
        "    def encode_backward(self, c):\n",
        "        idx = (self.alphabet.index(c) + self.position ) % 26\n",
        "        letter = self.alphabet[self.wiring.index(self.alphabet[idx])]\n",
        "        output = self.alphabet[(self.alphabet.index(letter) - self.position) % 26]\n",
        "        debugger.debug(f\"Rotor({self.notch})\", f\"{c} -> {letter} -> {output}\")\n",
        "        return output\n",
        "\n",
        "    def step(self):\n",
        "        self.position = (self.position + 1) % 26\n",
        "        debugger.debug(f\"Rotor({self.notch})\", f\"Girou!\")\n",
        "        return self.alphabet[self.position] == self.notch"
      ],
      "metadata": {
        "id": "ynXRG3sxnFiu"
      },
      "execution_count": null,
      "outputs": []
    },
    {
      "cell_type": "markdown",
      "source": [
        "## Refletor"
      ],
      "metadata": {
        "id": "lNlO1H9MxEAn"
      }
    },
    {
      "cell_type": "code",
      "source": [
        "class Reflector:\n",
        "    def __init__(self, wiring):\n",
        "        self.wiring = wiring\n",
        "        self.alphabet = 'ABCDEFGHIJKLMNOPQRSTUVWXYZ'\n",
        "\n",
        "    def reflect(self, c):\n",
        "        idx = self.alphabet.index(c)\n",
        "        output = self.wiring[idx]\n",
        "        debugger.debug(f\"Refletor\", f\"{c} -> {output}\")\n",
        "        return output"
      ],
      "metadata": {
        "id": "hMeVJnjgvVwg"
      },
      "execution_count": null,
      "outputs": []
    },
    {
      "cell_type": "markdown",
      "source": [
        "## Plugboard"
      ],
      "metadata": {
        "id": "b8VC1QOaxHrY"
      }
    },
    {
      "cell_type": "code",
      "source": [
        "class Plugboard:\n",
        "    def __init__(self, wiring=''):\n",
        "        self.alphabet = 'ABCDEFGHIJKLMNOPQRSTUVWXYZ'\n",
        "        self.wiring = {}\n",
        "        for c in self.alphabet:\n",
        "            self.wiring[c] = c\n",
        "        pairs = wiring.upper().split()\n",
        "        for pair in pairs:\n",
        "            if len(pair) == 2:\n",
        "                a, b = pair[0], pair[1]\n",
        "                self.wiring[a] = b\n",
        "                self.wiring[b] = a\n",
        "\n",
        "    def swap(self, c):\n",
        "        output = self.wiring[c]\n",
        "        debugger.debug(\"Plugboard\", f\"{c} -> {output}\")\n",
        "        return output\n",
        "\n"
      ],
      "metadata": {
        "id": "bUU0wDg2veT2"
      },
      "execution_count": null,
      "outputs": []
    },
    {
      "cell_type": "markdown",
      "source": [
        "## Máquina Enigma"
      ],
      "metadata": {
        "id": "yIRdwPVAxQvY"
      }
    },
    {
      "cell_type": "code",
      "source": [
        "class EnigmaMachine:\n",
        "    def __init__(self, rotors, reflector, ring_settings=[0,0,0], rotor_positions=[0,0,0], plugboard_wiring=''):\n",
        "        self.alphabet = 'ABCDEFGHIJKLMNOPQRSTUVWXYZ'\n",
        "        self.rotors = []\n",
        "        for i, rotor_name in enumerate(rotors):\n",
        "            wiring = rotor_wirings[rotor_name]\n",
        "            notch = rotor_notches[rotor_name]\n",
        "            position = rotor_positions[i]\n",
        "            rotor = Rotor(wiring, notch, position)\n",
        "            self.rotors.append(rotor)\n",
        "\n",
        "        self.reflector = Reflector(reflector)\n",
        "\n",
        "        self.plugboard = Plugboard(plugboard_wiring)\n",
        "\n",
        "    def step_rotors(self):\n",
        "\n",
        "        step_next = self.rotors[2].step()\n",
        "\n",
        "        if step_next or self.alphabet[self.rotors[1].position] == self.rotors[1].notch:\n",
        "            step_next = self.rotors[1].step()\n",
        "        else:\n",
        "            step_next = False\n",
        "\n",
        "        if step_next:\n",
        "            self.rotors[0].step()\n",
        "\n",
        "    def encrypt_letter(self, c):\n",
        "        if c not in self.alphabet:\n",
        "            return c\n",
        "\n",
        "        self.step_rotors()\n",
        "\n",
        "        c = self.plugboard.swap(c)\n",
        "\n",
        "        for rotor in reversed(self.rotors):\n",
        "            c = rotor.encode_forward(c)\n",
        "\n",
        "        c = self.reflector.reflect(c)\n",
        "\n",
        "        for rotor in self.rotors:\n",
        "            c = rotor.encode_backward(c)\n",
        "\n",
        "        c = self.plugboard.swap(c)\n",
        "\n",
        "        return c\n",
        "\n",
        "    def encrypt_message(self, message):\n",
        "        result = ''\n",
        "        for c in message.upper():\n",
        "            if c in self.alphabet:\n",
        "                result += self.encrypt_letter(c)\n",
        "            else:\n",
        "                result += c\n",
        "        return result"
      ],
      "metadata": {
        "id": "obou733fvwJw"
      },
      "execution_count": null,
      "outputs": []
    },
    {
      "cell_type": "markdown",
      "source": [
        "## Aplicação da Enigma"
      ],
      "metadata": {
        "id": "_AwnDrrWxYRt"
      }
    },
    {
      "cell_type": "code",
      "source": [
        "class Debugger:\n",
        "  def __init__(self):\n",
        "      self.debugs = []\n",
        "      self.rotor_notches = {\n",
        "        'Q': 'I',\n",
        "        'E': 'II',\n",
        "        'V': 'III',\n",
        "        'J': 'IV',\n",
        "        'Z': 'V'\n",
        "      }\n",
        "\n",
        "  def debug(self, component, action):\n",
        "    for char in component:\n",
        "      if char in self.rotor_notches:\n",
        "        component = component.replace(char, self.rotor_notches[char])\n",
        "    debug = f\"{component}: {action}\"\n",
        "    self.debugs.append(debug)\n",
        "    return debug\n",
        "\n",
        "  def show(self):\n",
        "    return self.debugs\n",
        "\n",
        "debugger = Debugger()"
      ],
      "metadata": {
        "id": "4q5ov7rDzZwJ"
      },
      "execution_count": null,
      "outputs": []
    },
    {
      "cell_type": "code",
      "source": [
        "rotor_wirings = {\n",
        "    'I': 'EKMFLGDQVZNTOWYHXUSPAIBRCJ',\n",
        "    'II':'AJDKSIRUXBLHWTMCQGZNPYFVOE',\n",
        "    'III':   'BDFHJLCPRTXVZNYEIWGAKMUSQO',\n",
        "    'IV':    'ESOVPZJAYQUIRHXLNFTGKDCMWB',\n",
        "    'V':     'VZBRGITYUPSDNHLXAWMJQOFECK'\n",
        "}\n",
        "\n",
        "rotor_notches = {\n",
        "    'I': 'Q',\n",
        "    'II': 'E',\n",
        "    'III': 'V',\n",
        "    'IV': 'J',\n",
        "    'V': 'Z'\n",
        "}\n",
        "\n",
        "reflector_wirings = {\n",
        "    'B': 'YRUHQSLDPXNGOKMIEBFZCWVJAT',\n",
        "    'C': 'FVPJIAOYEDRZXWGCTKUQSBNMHL'\n",
        "}\n",
        "\n",
        "if __name__ == '__main__':\n",
        "    print('Enigma Machine\\n Configuração:')\n",
        "    machine = EnigmaMachine(\n",
        "        rotors=[input('rotor 1: '), input('rotor 2: '), input('rotor 3: ')],\n",
        "        reflector= reflector_wirings[input('reflector: ')],\n",
        "        rotor_positions=[int(input('posição 1: ')), int(input('posição 2: ')), int(input('posição 3: '))],\n",
        "        plugboard_wiring=input('plugging:')\n",
        "    )\n",
        "    texto_claro = ''\n",
        "    while texto_claro!='!':\n",
        "        texto_claro = input('message:')\n",
        "        texto_cifrado = machine.encrypt_message(texto_claro)\n",
        "        print('Texto cifrado:', texto_cifrado)\n",
        "\n",
        "    debugs = debugger.show()\n",
        "    for debug in debugs:\n",
        "      if \"Girou\" in debug: print()\n",
        "      print(debug)"
      ],
      "metadata": {
        "colab": {
          "base_uri": "https://localhost:8080/"
        },
        "id": "msp7DWEuv8eR",
        "outputId": "bdae6e34-45f7-40a7-f8c2-664356723f3a",
        "collapsed": true
      },
      "execution_count": null,
      "outputs": [
        {
          "output_type": "stream",
          "name": "stdout",
          "text": [
            "Enigma Machine\n",
            " Configuração:\n",
            "rotor 1: I\n",
            "rotor 2: II\n",
            "rotor 3: III\n",
            "reflector: C\n",
            "posição 1: 0\n",
            "posição 2: 0\n",
            "posição 3: 0\n",
            "plugging:Ar gk ox\n",
            "message:Testando\n",
            "Texto cifrado: DGCPKJGS\n",
            "message:!\n",
            "Texto cifrado: !\n",
            "\n",
            "Rotor(III): Girou!\n",
            "Plugboard: T -> T\n",
            "Rotor(III): T -> K -> J\n",
            "Rotor(II): J -> B -> B\n",
            "Rotor(I): B -> K -> K\n",
            "Refletor: K -> R\n",
            "Rotor(I): R -> X -> X\n",
            "Rotor(II): X -> I -> I\n",
            "Rotor(III): I -> E -> D\n",
            "Plugboard: D -> D\n",
            "\n",
            "Rotor(III): Girou!\n",
            "Plugboard: E -> E\n",
            "Rotor(III): E -> C -> A\n",
            "Rotor(II): A -> A -> A\n",
            "Rotor(I): A -> E -> E\n",
            "Refletor: E -> I\n",
            "Rotor(I): I -> V -> V\n",
            "Rotor(II): V -> X -> X\n",
            "Rotor(III): X -> M -> K\n",
            "Plugboard: K -> G\n",
            "\n",
            "Rotor(III): Girou!\n",
            "Plugboard: S -> S\n",
            "Rotor(III): S -> M -> J\n",
            "Rotor(II): J -> B -> B\n",
            "Rotor(I): B -> K -> K\n",
            "Refletor: K -> R\n",
            "Rotor(I): R -> X -> X\n",
            "Rotor(II): X -> I -> I\n",
            "Rotor(III): I -> F -> C\n",
            "Plugboard: C -> C\n",
            "\n",
            "Rotor(III): Girou!\n",
            "Plugboard: T -> T\n",
            "Rotor(III): T -> S -> O\n",
            "Rotor(II): O -> M -> M\n",
            "Rotor(I): M -> O -> O\n",
            "Refletor: O -> G\n",
            "Rotor(I): G -> F -> F\n",
            "Rotor(II): F -> W -> W\n",
            "Rotor(III): W -> T -> P\n",
            "Plugboard: P -> P\n",
            "\n",
            "Rotor(III): Girou!\n",
            "Plugboard: A -> R\n",
            "Rotor(III): R -> U -> P\n",
            "Rotor(II): P -> C -> C\n",
            "Rotor(I): C -> M -> M\n",
            "Refletor: M -> X\n",
            "Rotor(I): X -> Q -> Q\n",
            "Rotor(II): Q -> Q -> Q\n",
            "Rotor(III): Q -> L -> G\n",
            "Plugboard: G -> K\n",
            "\n",
            "Rotor(III): Girou!\n",
            "Plugboard: N -> N\n",
            "Rotor(III): N -> A -> U\n",
            "Rotor(II): U -> P -> P\n",
            "Rotor(I): P -> H -> H\n",
            "Refletor: H -> Y\n",
            "Rotor(I): Y -> O -> O\n",
            "Rotor(II): O -> Y -> Y\n",
            "Rotor(III): Y -> P -> J\n",
            "Plugboard: J -> J\n",
            "\n",
            "Rotor(III): Girou!\n",
            "Plugboard: D -> D\n",
            "Rotor(III): D -> X -> Q\n",
            "Rotor(II): Q -> Q -> Q\n",
            "Rotor(I): Q -> X -> X\n",
            "Refletor: X -> M\n",
            "Rotor(I): M -> C -> C\n",
            "Rotor(II): C -> P -> P\n",
            "Rotor(III): P -> R -> K\n",
            "Plugboard: K -> G\n",
            "\n",
            "Rotor(III): Girou!\n",
            "Plugboard: O -> X\n",
            "Rotor(III): X -> L -> D\n",
            "Rotor(II): D -> K -> K\n",
            "Rotor(I): K -> N -> N\n",
            "Refletor: N -> W\n",
            "Rotor(I): W -> N -> N\n",
            "Rotor(II): N -> T -> T\n",
            "Rotor(III): T -> A -> S\n",
            "Plugboard: S -> S\n"
          ]
        }
      ]
    }
  ]
}